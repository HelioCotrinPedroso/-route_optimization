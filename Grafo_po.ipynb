{
 "cells": [
  {
   "cell_type": "markdown",
   "id": "911d198d",
   "metadata": {},
   "source": [
    "## Sugestão"
   ]
  },
  {
   "cell_type": "markdown",
   "id": "4937f736",
   "metadata": {},
   "source": [
    "Aplicar Pesquisa Operacional para fazer sugestão de rota de logística"
   ]
  },
  {
   "cell_type": "markdown",
   "id": "62cb5862",
   "metadata": {},
   "source": [
    "# 1 - Ciclo de Modelagem\n",
    "\n",
    "###### 1 - Junto a equipe de negócio determinar o objetivo e o que otimizar.\n",
    "###### 2 - Definir o alvo e as variáveis envolvidas e fazer a modelagem Conceitual.\n",
    "###### 3 - Fazer a modelagem matemática.\n",
    "###### 4 - Fazer a modelagem matemática no sistema.\n",
    "###### 5 - Entregar a solução ótima."
   ]
  },
  {
   "cell_type": "markdown",
   "id": "e00efe68",
   "metadata": {},
   "source": [
    "# 2 - Descrevendo o problema de negócio\n",
    "### Objetivo 1 - Reduzir o custo de logística\n",
    "##### Existem 3 Centros de distribuição onde as mercadorias se encontram para depois serem transportadas para os mercados.\n",
    "##### Ao todo são 14 mercados.\n",
    "##### Frete é terceirizado.\n",
    "##### Pagamento em duas partes, valor fixo por vigem + variável para distancia acima de 5km.\n",
    "##### Descarga somente antes das 10h ou após as 20h nas lojas do Buranto e Pinheiros.\n",
    "\n",
    "#####             ********************************************************************************************************\n",
    "### Objetivo 2 - Se vale a pena fundir ou não com a empresa A ou B ou Ambas, em termos de custo logístico\n",
    "##### Possibilidade de união de empresas.\n",
    "##### Rede A tem um centro distribuição no bairro cidade Dutra + 16 mercados na zona Sul da cidade.\n",
    "##### Rede B tem centro de distribuição no bairro Saúde + 8 mercados espalhados pela cidade.\n",
    "##### Perguntas importantes a serem respondidas :\n",
    "##### Em termos de logística quanto a empresa irá economizar se fazer fusão com a rede A ou B ?\n",
    "##### Se a capacidade do CD for aumentada qual o ganho de economia ?\n",
    "\n",
    "#####             ********************************************************************************************************\n",
    "### Objetivo Principal - Operacional ou Estratégico ?Para este caso o estratégico é o melhor problema a ser resolvido primeiro.\n",
    "#### Operacional:\n",
    "##### Solução é recorrente e todo dia será utilizada.\n",
    "##### Microdados de várias fontes e potencialmente pouco confiáveis.\n",
    "\n",
    "#### Estratégico:\n",
    "##### Solução utilizada apenas uma vez.\n",
    "##### Macrodados, provavelmente de uma única fonte (ERP).\n",
    "\n",
    "\n"
   ]
  },
  {
   "cell_type": "markdown",
   "id": "19d06d8f",
   "metadata": {},
   "source": [
    "# 3 - Modelagem Conceitual do Caso Estratégico\n",
    "#### Para este caso podemos avaliar o nível de granularidade da modelagem:\n",
    "#### Vamos levar em conta, produtos(Difícil) ? Caixas(Médio) ? Caminhões(Fácil) ?Vamos para o Paradigma de Caminhões. \n",
    "#### Vamos definir os CD's por i (Indice).\n",
    "#### Vamos definir Mercados por J. \n",
    "#### E vamos resolver o problema do CD 1 primeiro, depois replicamos para os outros CD's"
   ]
  },
  {
   "cell_type": "markdown",
   "id": "6ff7c7c3",
   "metadata": {},
   "source": [
    "## 4 -  Definindo a Função Objetivo, Variáveis, Parâmetros e Restrições"
   ]
  },
  {
   "cell_type": "markdown",
   "id": "39691b18",
   "metadata": {},
   "source": [
    "#### Parâmetros: \n",
    "##### i = Indice dos CD's, sendo 5 Cd's - i vai de 1 a 5.\n",
    "##### j = Indice dos Mercados, sendo 38 Mercados - j vai de 1 a 38.\n",
    "##### Cij = Custo de transporte do CD i para o Mercado J - Custo da rota.\n",
    "##### Oi = Quantidade de caminhões disponíveis do CD i - Cada CD possui uma quantidade Fixa de caminhões.\n",
    "##### Dj = Quantos caminhões são demandados pelo Mercado J - Cada mercado tem uma necessídade.\n",
    "\n",
    "##### Vamos usar essas informações para definir quantos caminhões saem do CD i para os Mercados J"
   ]
  },
  {
   "cell_type": "markdown",
   "id": "2aa296a8",
   "metadata": {},
   "source": [
    "#### Variáveis:\n",
    "##### (Essa é o que queremos que o modelo defina para nós, é a resposta do modelo)\n",
    "##### Xij = Quantidade de caminhões usados na rota do CD i para o Mercado J.\n",
    "###### Se eu tenho 5 CD's para 38 Mercados então temos 5*38 = Número de variáveis Xij associadas as rotas, podem haver rotas zeradas que não vale a pena fazer a rota, a ideia que qlq número positivo inteiro é a resposta para está variável."
   ]
  },
  {
   "cell_type": "markdown",
   "id": "dafc81c5",
   "metadata": {},
   "source": [
    "#### Função Objetivo:\n",
    "##### Minimizar o Custo de Transporte.\n",
    "##### Representar o custo total da operação.\n",
    "##### Somatoria (ACORDAGEM SOMAR PRODUTO) Cij * Xij = (C11 * X11) + (C12 * X12) + (...)"
   ]
  },
  {
   "cell_type": "markdown",
   "id": "790045f5",
   "metadata": {},
   "source": [
    "#### Restrições:\n",
    "#### Oferta Oi: Quantidade de caminhões (Xij) não pode ultrapassar a quantidade disponível no CD(Oi) =  X11 + X12 + X13 + ... <= O1.\n",
    "#### Demanda Dj: Todos os mercados devem ter demanda atendida por um CD(Dj) = X11 + X12 + X13 + ... = Dj.\n",
    "\n",
    "#### Minimizar Sum(Cij*Xij) Sujeito a: Sum(Xij <= Oi) e Sum(Xij = Dj) - Problema de Transbordo - Quanto eu mando de um CD para as unidades de Consumo."
   ]
  },
  {
   "cell_type": "markdown",
   "id": "473eca97",
   "metadata": {},
   "source": [
    "## 5 - Como calcular a matrix de distâncias entre endereços ?Para Muitos endereços.\n",
    "##### 5 Cd's * 36 Mercados = 180 Rotas"
   ]
  },
  {
   "cell_type": "markdown",
   "id": "cd85e1a9",
   "metadata": {},
   "source": [
    "#### Como o número de rotas cresce exponencialmente, precisamos de uma API para conseguir pegar a distância de vários endereços, no caso podemos utilizar a API do google Maps.Podemos conectar nesta API com Python para ter esses dados - Pago $$.\n",
    "#### Bing Maps API também permite fazer isso - Bing Maps Dev Center."
   ]
  },
  {
   "cell_type": "markdown",
   "id": "82901f5e",
   "metadata": {},
   "source": [
    "## 6 - Conectando API necessária para coletar as distâncias entre os endereços"
   ]
  },
  {
   "cell_type": "code",
   "execution_count": null,
   "id": "3971f32b",
   "metadata": {},
   "outputs": [],
   "source": [
    "# Importando os pacotes\n",
    "import requests\n",
    "import pandas as pd\n",
    "import numpy as np\n",
    "import networkx as nx\n",
    "import math\n",
    "import matplotlib.pyplot as plt"
   ]
  },
  {
   "cell_type": "code",
   "execution_count": null,
   "id": "32f88247",
   "metadata": {},
   "outputs": [],
   "source": [
    "# Chave de acesso da API\n",
    "bingMapsKey = \"\""
   ]
  },
  {
   "cell_type": "code",
   "execution_count": null,
   "id": "6ae971f1",
   "metadata": {},
   "outputs": [],
   "source": [
    "# Estamos aqui definindo as variáveis para alimentar a API e fazer a consulta de distância entre os endereços (teste)\n",
    "# dentro do endereço no final pegamos o travelDistance que tem a distância entre os pontos\n",
    "# travelDuration é a duração em minutos do trajeto\n",
    "# Trabalho e pegar o json e coletar essas informações\n",
    "origin = \"Palhoça\"\n",
    "destination = \"São José-sc\"\n",
    "# concatenando o endereço com os dados necessários para coletar a distância\n",
    "route = \"http://dev.virtualearth.net/REST/V1/Routes/Driving?wp.0=\" + origin + \"&wp.1=\" + destination + \"/&key=\" + bingMapsKey"
   ]
  },
  {
   "cell_type": "code",
   "execution_count": null,
   "id": "b03f52ad",
   "metadata": {},
   "outputs": [],
   "source": [
    "route = \"http://dev.virtualearth.net/REST/V1/Routes/Driving?wp.0=\" + origin + \"&wp.1=\" + destination + \"/&key=\" + bingMapsKey\n",
    "r = requests.get(url = route)\n",
    "result = r.json()\n",
    "distance = result[\"resourceSets\"][0][\"resources\"][0][\"travelDistance\"]\n",
    "timetraffic = result[\"resourceSets\"][0][\"resources\"][0][\"travelDurationTraffic\"]\n",
    "print('Distancia em Km:',distance,'Tempo Dirigindo:',math.ceil(timetraffic/60),'Minutos')"
   ]
  },
  {
   "cell_type": "code",
   "execution_count": null,
   "id": "475c3969",
   "metadata": {},
   "outputs": [],
   "source": [
    "print(result)"
   ]
  },
  {
   "cell_type": "code",
   "execution_count": null,
   "id": "040fda44",
   "metadata": {},
   "outputs": [],
   "source": [
    "# Criando a matrix que vai receber as distâncias\n",
    "# Criamos uma lista onde vamos preencher a lista com cada endereço do cd I \n",
    "# E vamos pegar os endereços de cada mercado também e pegar a distância com o get\n",
    "distanceMatrix = []\n",
    "# para cada endereço na coluna endereço da aba cd, nos vamos chamar de i\n",
    "for i in cd.Endereço:\n",
    "    listCD = []\n",
    "    # para cada endereço na coluna endereço da aba mercado nos vamos chamar de j\n",
    "    for j in mercado.Endereço:\n",
    "        # vamos pegar a distancia de i e j e inderir na listcd\n",
    "        # no final vamos ter uma matrix com as distancias de cada i para cada j\n",
    "        origin = i\n",
    "        destination = j\n",
    "        route = \"http://dev.virtualearth.net/REST/V1/Routes/Driving?wp.0=\" + origin + \"&wp.1=\" + destination + \"/&key=\" + bingMapsKey\n",
    "        r = requests.get(url = route)\n",
    "        result = r.json()\n",
    "        distance = result[\"resourceSets\"][0][\"resources\"][0][\"travelDistance\"]\n",
    "\n",
    "        listCD.append(distance)\n",
    "    distanceMatrix.append(listCD)\n",
    "    # lista com as listas na linha temos os cd's e nas colunas temos os mercados e nos valores as respectivas distancias\n",
    "matrix = pd.DataFrame(distanceMatrix)"
   ]
  },
  {
   "cell_type": "code",
   "execution_count": null,
   "id": "7698f165",
   "metadata": {},
   "outputs": [],
   "source": [
    "timetraffic"
   ]
  },
  {
   "cell_type": "markdown",
   "id": "0d189b9b",
   "metadata": {},
   "source": [
    "## 7 - Algebra Linear explicações necessária para modelas o problema com python linguagem matricial"
   ]
  },
  {
   "cell_type": "code",
   "execution_count": null,
   "id": "7c224621",
   "metadata": {},
   "outputs": [],
   "source": [
    "# Quando queremos somar algum dado na matrix, no python precisamos multiplicar as matrizes com um vetor unitário\n",
    "# Se quisermos fazer a soma das linhas de uma matrix precisamos multiplicar a \n",
    "# matrix [x] pelo vetor Ei(varia de acordo com o numero de colunas na matrix) = Xei\n",
    "# numero de linhas do vetor unitário(a esquerda) deve ser igual ao numero de colunas da matrix(a direita)\n",
    "# a matrix resultante vai ser o numero de linhas da primeira matrix com o numero de colunas da segundo vetor unitario\n",
    "# caso queira somar as colunas em vez das linhas, basta transpor a matrix e ajustar o \n",
    "# Ei para o numero de colunas da matrix transposta"
   ]
  },
  {
   "cell_type": "markdown",
   "id": "ddba5f92",
   "metadata": {},
   "source": [
    "## 8 - Modelagem do Problema com Python"
   ]
  },
  {
   "cell_type": "code",
   "execution_count": null,
   "id": "4c39cb27",
   "metadata": {},
   "outputs": [],
   "source": [
    "# Chave de acesso da API\n",
    "bingMapsKey = \"\""
   ]
  },
  {
   "cell_type": "code",
   "execution_count": null,
   "id": "c90e2daa",
   "metadata": {},
   "outputs": [],
   "source": [
    "dataset = pd.read_csv('Dados/origem_destino.csv', sep=';')\n",
    "dataset"
   ]
  },
  {
   "cell_type": "code",
   "execution_count": null,
   "id": "7263c1be",
   "metadata": {},
   "outputs": [],
   "source": [
    "for i in range(len(dataset['Origem'])):\n",
    "    print(dataset['Origem'][i], dataset['Destino'][i])"
   ]
  },
  {
   "cell_type": "code",
   "execution_count": null,
   "id": "9988f19a",
   "metadata": {},
   "outputs": [],
   "source": [
    "print(result)"
   ]
  },
  {
   "cell_type": "code",
   "execution_count": null,
   "id": "f5da0684",
   "metadata": {},
   "outputs": [],
   "source": [
    "### Criando a matrix que vai receber as distâncias\n",
    "# Criamos uma lista onde vamos preencher a lista com cada endereço do cd I \n",
    "# E vamos pegar os endereços de cada mercado também e pegar a distância com o get\n",
    "distanceMatrix = []\n",
    "\n",
    "\n",
    "\n",
    "# para cada endereço na coluna endereço da aba cd, nos vamos chamar de i\n",
    "for i in dataset['Origem']:\n",
    "    for j in dataset['Destino']:\n",
    "        listCD = []        \n",
    "    # para cada endereço na coluna endereço da aba mercado nos vamos chamar de j\n",
    "    # vamos pegar a distancia de i e j e inserir na listcd\n",
    "    # no final vamos ter uma matrix com as distancias de cada i para cada j\n",
    "        origin = i\n",
    "        destination = j\n",
    "        print('Origem',origin)\n",
    "        print('Destino',destination)\n",
    "        route = \"http://dev.virtualearth.net/REST/V1/Routes/Driving?wp.0=\" + origin + \"&wp.1=\" + destination + \"/&key=\" + bingMapsKey\n",
    "        r = requests.get(url = route)\n",
    "        result = r.json()\n",
    "        distance = result[\"resourceSets\"][0][\"resources\"][0][\"travelDistance\"]\n",
    "        print('Distancia KM',distance)\n",
    "        listCD.append(distance)\n",
    "        distanceMatrix.append(listCD)\n",
    "        # lista com as listas na linha temos os cd's e nas colunas temos os mercados e nos valores as respectivas distancias\n",
    "    matrix = pd.DataFrame(distanceMatrix)\n",
    "    dataset['Distancia'] = matrix"
   ]
  },
  {
   "cell_type": "code",
   "execution_count": null,
   "id": "d96d588e",
   "metadata": {},
   "outputs": [],
   "source": [
    "dataset"
   ]
  },
  {
   "cell_type": "code",
   "execution_count": null,
   "id": "4d1dbdbd",
   "metadata": {},
   "outputs": [],
   "source": [
    "# com isso nos criamos um grafo\n",
    "DG=nx.DiGraph()\n",
    "for row in dataset.iterrows():\n",
    "        DG.add_edge(row[1][\"Origem\"],\n",
    "                    row[1]['Destino'],\n",
    "                    distance=row[1]['Distancia'])"
   ]
  },
  {
   "cell_type": "code",
   "execution_count": null,
   "id": "5a674c81",
   "metadata": {},
   "outputs": [],
   "source": [
    "nx.draw_kamada_kawai(DG,\n",
    "                 node_color='lightblue',\n",
    "                 edge_color='gray',\n",
    "                 font_size=9,\n",
    "                 width=2,\n",
    "                 with_labels=True,\n",
    "                 node_size=2000,)"
   ]
  },
  {
   "cell_type": "code",
   "execution_count": null,
   "id": "180e6f1e",
   "metadata": {},
   "outputs": [],
   "source": [
    "list(nx.all_shortest_paths(DG,source='Florianópolis-sc', target='São José-sc', weight='Distance'))"
   ]
  },
  {
   "cell_type": "code",
   "execution_count": null,
   "id": "0fb061b0",
   "metadata": {},
   "outputs": [],
   "source": [
    "list(nx.all_shortest_paths(DG,source='Palhoça-sc', target='Chapecó-sc'))"
   ]
  },
  {
   "cell_type": "code",
   "execution_count": null,
   "id": "9924d7ad",
   "metadata": {},
   "outputs": [],
   "source": [
    "list(nx.dijkstra_path(DG,source=\"Palhoça-sc\", target='Criciúma-sc',weight='Distance'))"
   ]
  },
  {
   "cell_type": "code",
   "execution_count": null,
   "id": "067c372b",
   "metadata": {},
   "outputs": [],
   "source": [
    "# Modelo A* para encontrar o caminho ótimo"
   ]
  },
  {
   "cell_type": "code",
   "execution_count": null,
   "id": "10a446b9",
   "metadata": {},
   "outputs": [],
   "source": [
    "list(nx.astar_path(DG,(\"Palhoça-sc\"), (\"Criciúma-sc\"), weight=\"Distance\"))"
   ]
  },
  {
   "cell_type": "code",
   "execution_count": null,
   "id": "b20ccf98",
   "metadata": {},
   "outputs": [],
   "source": [
    "def show_path(path):\n",
    "    total_distance = 0\n",
    "    \n",
    "    for i in range(len(path)-1):\n",
    "        origin = path[i]\n",
    "        destination = path[i+1]\n",
    "        distance = DG[origin][destination]['distance']\n",
    "        \n",
    "        total_distance = total_distance + distance\n",
    "        print(\" %s-> %s - Distancia: %s\"%(\n",
    "            origin,\n",
    "            destination,\n",
    "            distance)\n",
    "        )\n",
    "    print(\"\\n Total Distancia em KM: %s\"%(total_distance)\n",
    "    )\n",
    "        "
   ]
  },
  {
   "cell_type": "code",
   "execution_count": null,
   "id": "90aa63ac",
   "metadata": {},
   "outputs": [],
   "source": [
    "show_path(list(nx.astar_path(DG,(\"Palhoça-sc\"), (\"Criciúma-sc\"), weight=\"Distance\")))"
   ]
  },
  {
   "cell_type": "code",
   "execution_count": null,
   "id": "a90948da",
   "metadata": {},
   "outputs": [],
   "source": [
    "# com isso nos criamos um grafo\n",
    "G=nx.Graph()\n",
    "for row in dataset.iterrows():\n",
    "    G.add_edge(row[1][\"Origem\"],\n",
    "               row[1]['Destino'],\n",
    "               distance=row[1]['Distancia'])"
   ]
  },
  {
   "cell_type": "code",
   "execution_count": null,
   "id": "eb649771",
   "metadata": {},
   "outputs": [],
   "source": [
    "G.nodes(data=True)"
   ]
  },
  {
   "cell_type": "code",
   "execution_count": null,
   "id": "84a9ba1c",
   "metadata": {},
   "outputs": [],
   "source": [
    "nx.draw_circular(G,\n",
    "                 node_color='lightblue',\n",
    "                 edge_color='gray',\n",
    "                 font_size=9,\n",
    "                 width=2,\n",
    "                 with_labels=True,\n",
    "                 node_size=2000,)"
   ]
  },
  {
   "cell_type": "code",
   "execution_count": null,
   "id": "b0e9194c",
   "metadata": {},
   "outputs": [],
   "source": [
    "list(nx.all_shortest_paths(G,source=\"Palhoça-sc\", target='Criciúma-sc'))"
   ]
  },
  {
   "cell_type": "code",
   "execution_count": null,
   "id": "23f124df",
   "metadata": {},
   "outputs": [],
   "source": [
    "DG.edges"
   ]
  },
  {
   "cell_type": "code",
   "execution_count": null,
   "id": "07ce8b7a",
   "metadata": {},
   "outputs": [],
   "source": [
    "DG.nodes"
   ]
  },
  {
   "cell_type": "code",
   "execution_count": null,
   "id": "b05b204d",
   "metadata": {},
   "outputs": [],
   "source": [
    "dataset = pd.read_csv('Dados/origem_destino.csv', sep=';')\n",
    "dataset"
   ]
  },
  {
   "cell_type": "code",
   "execution_count": null,
   "id": "fdcfbccf",
   "metadata": {},
   "outputs": [],
   "source": [
    "from itertools import product\n",
    "\n",
    "permsList = list(product(dataset['Origem'], repeat=2))\n",
    "permsList\n",
    "df = pd.DataFrame(permsList)\n",
    "df['Origem'] = df[0] \n",
    "df['Destino'] = df[1] \n",
    "df = df.drop(columns=[0,1])\n",
    "df"
   ]
  },
  {
   "cell_type": "code",
   "execution_count": null,
   "id": "c8ca6832",
   "metadata": {},
   "outputs": [],
   "source": [
    "### Criando a matrix que vai receber as distâncias\n",
    "# Criamos uma lista onde vamos preencher a lista com cada endereço do cd I \n",
    "# E vamos pegar os endereços de cada mercado também e pegar a distância com o get\n",
    "distanceMatrix = []\n",
    "\n",
    "\n",
    "\n",
    "# para cada endereço na coluna endereço da aba cd, nos vamos chamar de i\n",
    "for i,j in zip(df['Origem'],df['Destino']):\n",
    "    listCD = []        \n",
    "    # para cada endereço na coluna endereço da aba mercado nos vamos chamar de j\n",
    "    # vamos pegar a distancia de i e j e inserir na listcd\n",
    "    # no final vamos ter uma matrix com as distancias de cada i para cada j\n",
    "    origin = i\n",
    "    destination = j\n",
    "    print('Origem',origin)\n",
    "    print('Destino',destination)\n",
    "    route = \"http://dev.virtualearth.net/REST/V1/Routes/Driving?wp.0=\" + origin + \"&wp.1=\" + destination + \"/&key=\" + bingMapsKey\n",
    "    r = requests.get(url = route)\n",
    "    result = r.json()\n",
    "    distance = result[\"resourceSets\"][0][\"resources\"][0][\"travelDistance\"]\n",
    "    print('Distancia KM',distance)\n",
    "    listCD.append(distance)\n",
    "    distanceMatrix.append(listCD)\n",
    "    # lista com as listas na linha temos os cd's e nas colunas temos os mercados e nos valores as respectivas distancias\n",
    "matrix = pd.DataFrame(distanceMatrix)\n",
    "df['Distancia'] = matrix"
   ]
  },
  {
   "cell_type": "code",
   "execution_count": null,
   "id": "e873d1d5",
   "metadata": {},
   "outputs": [],
   "source": [
    "# com isso nos criamos um grafo\n",
    "DG_2=nx.Graph()\n",
    "for row in df.iterrows():\n",
    "        DG_2.add_edge(row[1][\"Origem\"],\n",
    "                    row[1]['Destino'],\n",
    "                    df=row[1]['Distancia'])"
   ]
  },
  {
   "cell_type": "code",
   "execution_count": null,
   "id": "e2ebd9f8",
   "metadata": {},
   "outputs": [],
   "source": [
    "nx.draw_circular(DG_2,\n",
    "                 node_color='lightblue',\n",
    "                 edge_color='gray',\n",
    "                 font_size=9,\n",
    "                 width=2,\n",
    "                 with_labels=True,\n",
    "                 node_size=2000,)"
   ]
  },
  {
   "cell_type": "code",
   "execution_count": null,
   "id": "24f0eb32",
   "metadata": {},
   "outputs": [],
   "source": [
    "list(nx.all_shortest_paths(DG,source=\"Palhoça-sc\", target='Urubici-sc'))"
   ]
  },
  {
   "cell_type": "code",
   "execution_count": null,
   "id": "ec53193b",
   "metadata": {},
   "outputs": [],
   "source": []
  }
 ],
 "metadata": {
  "kernelspec": {
   "display_name": "Python 3 (ipykernel)",
   "language": "python",
   "name": "python3"
  },
  "language_info": {
   "codemirror_mode": {
    "name": "ipython",
    "version": 3
   },
   "file_extension": ".py",
   "mimetype": "text/x-python",
   "name": "python",
   "nbconvert_exporter": "python",
   "pygments_lexer": "ipython3",
   "version": "3.9.13"
  }
 },
 "nbformat": 4,
 "nbformat_minor": 5
}
